{
 "cells": [
  {
   "cell_type": "code",
   "execution_count": 1,
   "metadata": {},
   "outputs": [
    {
     "ename": "ModuleNotFoundError",
     "evalue": "No module named 'hatebase'",
     "output_type": "error",
     "traceback": [
      "\u001b[0;31m---------------------------------------------------------------------------\u001b[0m",
      "\u001b[0;31mModuleNotFoundError\u001b[0m                       Traceback (most recent call last)",
      "\u001b[0;32m<ipython-input-1-18fb31bf6a97>\u001b[0m in \u001b[0;36m<module>\u001b[0;34m\u001b[0m\n\u001b[1;32m      1\u001b[0m \u001b[0;32mfrom\u001b[0m \u001b[0mjson\u001b[0m \u001b[0;32mimport\u001b[0m \u001b[0mloads\u001b[0m\u001b[0;34m\u001b[0m\u001b[0;34m\u001b[0m\u001b[0m\n\u001b[0;32m----> 2\u001b[0;31m \u001b[0;32mfrom\u001b[0m \u001b[0mhatebase\u001b[0m \u001b[0;32mimport\u001b[0m \u001b[0mHatebaseAPI\u001b[0m\u001b[0;34m\u001b[0m\u001b[0;34m\u001b[0m\u001b[0m\n\u001b[0m\u001b[1;32m      3\u001b[0m \u001b[0;32mimport\u001b[0m \u001b[0mcsv\u001b[0m\u001b[0;34m\u001b[0m\u001b[0;34m\u001b[0m\u001b[0m\n\u001b[1;32m      4\u001b[0m \u001b[0;34m\u001b[0m\u001b[0m\n\u001b[1;32m      5\u001b[0m \u001b[0mHATEBASE_PAGE_LEN\u001b[0m \u001b[0;34m=\u001b[0m \u001b[0;36m100\u001b[0m\u001b[0;34m\u001b[0m\u001b[0;34m\u001b[0m\u001b[0m\n",
      "\u001b[0;31mModuleNotFoundError\u001b[0m: No module named 'hatebase'"
     ]
    }
   ],
   "source": [
    "from json import loads\n",
    "from hatebase import HatebaseAPI\n",
    "import csv\n",
    "\n",
    "HATEBASE_PAGE_LEN = 100\n",
    "\n",
    "key = 'gszGTedCVisjpjvLynGmiJzbjcqVpvkc'\n",
    "\n",
    "hatebase = HatebaseAPI({\"key\": key})\n",
    "labels = ['about_ethnicity', 'about_nationality', 'about_religion', 'about_gender', \\\n",
    "            'about_sexual_orientation', 'about_disability', 'about_class']\n",
    "\n",
    "output = \"json\"\n",
    "query_type = \"vocabulary\"\n",
    "page_num = 1\n",
    "\n",
    "all_words = {}\n",
    "while True:\n",
    "    filters = {'language': 'eng', 'page': str(page_num)}\n",
    "    response = hatebase.performRequest(filters, output, query_type)\n",
    "    response = loads(response) # response -> datapoint: [obj, obj ...]\n",
    "    for result in response['data']['datapoint']:\n",
    "        word = result['vocabulary']\n",
    "        if word not in all_words:\n",
    "            all_words[word] = result\n",
    "\n",
    "    if int(response['number_of_results_on_this_page']) < 100:\n",
    "        break\n",
    "    page_num += 1\n",
    "\n",
    "with open('data/hatebase.csv', 'wb') as output_file:\n",
    "    csvwriter = csv.writer(output_file)\n",
    "    header = ['vocabulary', 'about_class', 'about_religion', 'about_gender', \\\n",
    "                'about_ethnicity', 'about_nationality', 'about_sexual_orientation', \\\n",
    "                'about_disability', 'offensiveness', 'number_of_sightings']\n",
    "    csvwriter.writerow(header)\n",
    "\n",
    "    for word in all_words.values():\n",
    "        csvwriter.writerow([word[c].lower() for c in header])"
   ]
  },
  {
   "cell_type": "code",
   "execution_count": null,
   "metadata": {},
   "outputs": [],
   "source": [
    "# get unigram counts for data\n",
    "def get_unigrams_processed():\n",
    "    uni = set()\n",
    "    tweets = df[['tweet']]\n",
    "    for row_index, row in tweets.iterrows():\n",
    "        s = tknzr.tokenize(row['tweet'])\n",
    "        for word in s:\n",
    "            uni.add(word)    \n",
    "    return uni\n",
    "vocabulary_unigrams = get_unigrams_processed()\n",
    "\n",
    "\n",
    "\n",
    "\n"
   ]
  }
 ],
 "metadata": {
  "kernelspec": {
   "display_name": "Python 3",
   "language": "python",
   "name": "python3"
  },
  "language_info": {
   "codemirror_mode": {
    "name": "ipython",
    "version": 3
   },
   "file_extension": ".py",
   "mimetype": "text/x-python",
   "name": "python",
   "nbconvert_exporter": "python",
   "pygments_lexer": "ipython3",
   "version": "3.7.1"
  }
 },
 "nbformat": 4,
 "nbformat_minor": 2
}

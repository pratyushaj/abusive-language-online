{
 "cells": [
  {
   "cell_type": "code",
   "execution_count": 3,
   "metadata": {},
   "outputs": [
    {
     "name": "stdout",
     "output_type": "stream",
     "text": [
      "response text: {\n",
      "    \"datetime\": \"2019-05-13 06:16:54\",\n",
      "    \"terms\": \"Your use of the Hatebase API acknowledges your consent with Hatebase's Terms of Use (hatebase.org\\/terms) and prohibits redistribution of the data herein to any third-parties for any purpose, including but not limited to republication in any form, such as in public code repositories.\",\n",
      "    \"api_key\": \"gszGTedCVisjpjvLynGmiJzbjcqVpvkc\",\n",
      "    \"result\": {\n",
      "        \"token\": \"VLKihJEoZZUEyPVfxwHRxFhPRrkimdGP\",\n",
      "        \"expires_on\": \"2019-05-13 07:16:55\"\n",
      "    }\n",
      "}\n",
      "token: VLKihJEoZZUEyPVfxwHRxFhPRrkimdGP\n",
      "url: https://api.hatebase.org/4-2/get_vocabulary\n",
      "payload: token=VLKihJEoZZUEyPVfxwHRxFhPRrkimdGP&format=json&language=eng\n",
      "response: <Response [200]>\n",
      "url: https://api.hatebase.org/4-2/get_sightings\n",
      "payload: token=VLKihJEoZZUEyPVfxwHRxFhPRrkimdGP&format=json&is_about_nationality=1&language=eng&country_id=US\n",
      "response: <Response [200]>\n"
     ]
    },
    {
     "data": {
      "text/plain": [
       "'\\nlabels = [\\'about_ethnicity\\', \\'about_nationality\\', \\'about_religion\\', \\'about_gender\\',             \\'about_sexual_orientation\\', \\'about_disability\\', \\'about_class\\']\\n\\noutput = \"json\"\\nquery_type = \"vocabulary\"\\npage_num = 1\\n\\nall_words = {}\\nwhile True:\\n    filters = {\\'language\\': \\'eng\\', \\'page\\': str(page_num)}\\n    response = hatebase.performRequest(filters, output, query_type)\\n    response = loads(response) # response -> datapoint: [obj, obj ...]\\n    for result in response[\\'data\\'][\\'datapoint\\']:\\n        word = result[\\'vocabulary\\']\\n        if word not in all_words:\\n            all_words[word] = result\\n\\n    if int(response[\\'number_of_results_on_this_page\\']) < 100:\\n        break\\n    page_num += 1\\n\\nwith open(\\'data/hatebase.csv\\', \\'wb\\') as output_file:\\n    csvwriter = csv.writer(output_file)\\n    header = [\\'vocabulary\\', \\'about_class\\', \\'about_religion\\', \\'about_gender\\',                 \\'about_ethnicity\\', \\'about_nationality\\', \\'about_sexual_orientation\\',                 \\'about_disability\\', \\'offensiveness\\', \\'number_of_sightings\\']\\n    csvwriter.writerow(header)\\n\\n    for word in all_words.values():\\n        csvwriter.writerow([word[c].lower() for c in header])\\n'"
      ]
     },
     "execution_count": 3,
     "metadata": {},
     "output_type": "execute_result"
    }
   ],
   "source": [
    "from json import loads\n",
    "from hatebase import HatebaseAPI\n",
    "import csv\n",
    "import requests\n",
    "\n",
    "HATEBASE_PAGE_LEN = 100\n",
    "\n",
    "#Initialize HatebaseAPI class\n",
    "from hatebase import HatebaseAPI\n",
    "key = 'gszGTedCVisjpjvLynGmiJzbjcqVpvkc'\n",
    "hatebase = HatebaseAPI({\"key\": key})\n",
    "# for more details, set debug to True\n",
    "hatebase = HatebaseAPI({\"key\": key, \"debug\": True})\n",
    "\n",
    "#HatebaseAPI getVocabulary\n",
    "# set filters for vocabulary query\n",
    "filters = {\"language\": \"eng\"}\n",
    "format = \"json\"\n",
    "response = hatebase.getVocabulary(filters=filters, format=format)\n",
    "# get some details from response\n",
    "vocablist = response[\"result\"]\n",
    "results = response[\"number_of_results\"]\n",
    "pages = response[\"number_of_pages\"]\n",
    "\n",
    "\n",
    "#HatebaseAPI getVocabularyDetails\n",
    "format = \"json\"\n",
    "#details_filters = {'vocabulary_id': vocab_id}\n",
    "#response = hatebase.getVocabularyDetails(filters=details_filters, format=format)\n",
    "\n",
    "#HatebaseAPI getSightings\n",
    "#filters = {'is_about_nationality': '1', 'language': 'eng', 'country_id': 'US'}\n",
    "#format = \"json\"\n",
    "#response = hatebase.getSightings(filters=filters, format=format)\n",
    "\n",
    "#Get All the Hate Speech in English About Nationality in the US\n",
    "filters = {'is_about_nationality': '1', 'language': 'eng', 'country_id': 'US'}\n",
    "format = \"json\"\n",
    "json_response = hatebase.getSightings(filters=filters, format=format)\n",
    "\n",
    "'''\n",
    "labels = ['about_ethnicity', 'about_nationality', 'about_religion', 'about_gender', \\\n",
    "            'about_sexual_orientation', 'about_disability', 'about_class']\n",
    "\n",
    "output = \"json\"\n",
    "query_type = \"vocabulary\"\n",
    "page_num = 1\n",
    "\n",
    "all_words = {}\n",
    "while True:\n",
    "    filters = {'language': 'eng', 'page': str(page_num)}\n",
    "    response = hatebase.performRequest(filters, output, query_type)\n",
    "    response = loads(response) # response -> datapoint: [obj, obj ...]\n",
    "    for result in response['data']['datapoint']:\n",
    "        word = result['vocabulary']\n",
    "        if word not in all_words:\n",
    "            all_words[word] = result\n",
    "\n",
    "    if int(response['number_of_results_on_this_page']) < 100:\n",
    "        break\n",
    "    page_num += 1\n",
    "\n",
    "with open('data/hatebase.csv', 'wb') as output_file:\n",
    "    csvwriter = csv.writer(output_file)\n",
    "    header = ['vocabulary', 'about_class', 'about_religion', 'about_gender', \\\n",
    "                'about_ethnicity', 'about_nationality', 'about_sexual_orientation', \\\n",
    "                'about_disability', 'offensiveness', 'number_of_sightings']\n",
    "    csvwriter.writerow(header)\n",
    "\n",
    "    for word in all_words.values():\n",
    "        csvwriter.writerow([word[c].lower() for c in header])\n",
    "'''"
   ]
  },
  {
   "cell_type": "code",
   "execution_count": 6,
   "metadata": {},
   "outputs": [],
   "source": [
    "#Get All Arabic Vocabulary\n",
    "import json \n",
    "import requests\n",
    "import pandas as pd\n",
    "from hatebase import HatebaseAPI\n",
    "\n",
    "hatebase = HatebaseAPI({\"key\": key})\n",
    "filters = {\"language\": \"ara\"}\n",
    "format = \"json\"\n",
    "# initialize list for all vocabulary entry dictionaries\n",
    "ara_vocab = []\n",
    "response = hatebase.getVocabulary(filters=filters, format=format)\n",
    "pages = response[\"number_of_pages\"]\n",
    "# fill the vocabulary list with all entries of all pages\n",
    "# this might take some time...\n",
    "for page in range(1, pages+1):\n",
    "    filters[\"page\"] = str(page) \n",
    "    response = hatebase.getVocabulary(filters=filters, format=format)\n",
    "    ara_vocab.append(response[\"result\"])\n",
    "\n",
    "# create empty pandas df for all vocabulary entries\n",
    "df_ara_vocab = pd.DataFrame()\n",
    "# fill df\n",
    "for elem in ara_vocab:\n",
    "    df_ara_vocab = df_ara_vocab.append(elem)\n",
    "# reset the df index\n",
    "df_ara_vocab.reset_index(drop=True, inplace=True)    "
   ]
  },
  {
   "cell_type": "code",
   "execution_count": null,
   "metadata": {},
   "outputs": [],
   "source": [
    "df_ara_vocab"
   ]
  },
  {
   "cell_type": "code",
   "execution_count": null,
   "metadata": {},
   "outputs": [],
   "source": [
    "# get unigram counts for data\n",
    "def get_unigrams_processed():\n",
    "    uni = set()\n",
    "    tweets = df[['tweet']]\n",
    "    for row_index, row in tweets.iterrows():\n",
    "        s = tknzr.tokenize(row['tweet'])\n",
    "        for word in s:\n",
    "            uni.add(word)    \n",
    "    return uni\n",
    "vocabulary_unigrams = get_unigrams_processed()\n",
    "\n",
    "\n",
    "\n",
    "\n"
   ]
  }
 ],
 "metadata": {
  "kernelspec": {
   "display_name": "Python 3",
   "language": "python",
   "name": "python3"
  },
  "language_info": {
   "codemirror_mode": {
    "name": "ipython",
    "version": 3
   },
   "file_extension": ".py",
   "mimetype": "text/x-python",
   "name": "python",
   "nbconvert_exporter": "python",
   "pygments_lexer": "ipython3",
   "version": "3.7.2"
  }
 },
 "nbformat": 4,
 "nbformat_minor": 2
}

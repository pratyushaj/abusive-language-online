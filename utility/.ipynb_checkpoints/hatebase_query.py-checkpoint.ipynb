{
 "cells": [
  {
   "cell_type": "code",
   "execution_count": 1,
   "metadata": {},
   "outputs": [
    {
     "ename": "AttributeError",
     "evalue": "'HatebaseAPI' object has no attribute 'performRequest'",
     "output_type": "error",
     "traceback": [
      "\u001b[0;31m---------------------------------------------------------------------------\u001b[0m",
      "\u001b[0;31mAttributeError\u001b[0m                            Traceback (most recent call last)",
      "\u001b[0;32m<ipython-input-1-c78140bc4c79>\u001b[0m in \u001b[0;36m<module>\u001b[0;34m()\u001b[0m\n\u001b[1;32m     17\u001b[0m \u001b[0;32mwhile\u001b[0m \u001b[0;32mTrue\u001b[0m\u001b[0;34m:\u001b[0m\u001b[0;34m\u001b[0m\u001b[0;34m\u001b[0m\u001b[0m\n\u001b[1;32m     18\u001b[0m     \u001b[0mfilters\u001b[0m \u001b[0;34m=\u001b[0m \u001b[0;34m{\u001b[0m\u001b[0;34m'language'\u001b[0m\u001b[0;34m:\u001b[0m \u001b[0;34m'eng'\u001b[0m\u001b[0;34m,\u001b[0m \u001b[0;34m'page'\u001b[0m\u001b[0;34m:\u001b[0m \u001b[0mstr\u001b[0m\u001b[0;34m(\u001b[0m\u001b[0mpage_num\u001b[0m\u001b[0;34m)\u001b[0m\u001b[0;34m}\u001b[0m\u001b[0;34m\u001b[0m\u001b[0;34m\u001b[0m\u001b[0m\n\u001b[0;32m---> 19\u001b[0;31m     \u001b[0mresponse\u001b[0m \u001b[0;34m=\u001b[0m \u001b[0mhatebase\u001b[0m\u001b[0;34m.\u001b[0m\u001b[0mperformRequest\u001b[0m\u001b[0;34m(\u001b[0m\u001b[0mfilters\u001b[0m\u001b[0;34m,\u001b[0m \u001b[0moutput\u001b[0m\u001b[0;34m,\u001b[0m \u001b[0mquery_type\u001b[0m\u001b[0;34m)\u001b[0m\u001b[0;34m\u001b[0m\u001b[0;34m\u001b[0m\u001b[0m\n\u001b[0m\u001b[1;32m     20\u001b[0m     \u001b[0mresponse\u001b[0m \u001b[0;34m=\u001b[0m \u001b[0mloads\u001b[0m\u001b[0;34m(\u001b[0m\u001b[0mresponse\u001b[0m\u001b[0;34m)\u001b[0m \u001b[0;31m# response -> datapoint: [obj, obj ...]\u001b[0m\u001b[0;34m\u001b[0m\u001b[0;34m\u001b[0m\u001b[0m\n\u001b[1;32m     21\u001b[0m     \u001b[0;32mfor\u001b[0m \u001b[0mresult\u001b[0m \u001b[0;32min\u001b[0m \u001b[0mresponse\u001b[0m\u001b[0;34m[\u001b[0m\u001b[0;34m'data'\u001b[0m\u001b[0;34m]\u001b[0m\u001b[0;34m[\u001b[0m\u001b[0;34m'datapoint'\u001b[0m\u001b[0;34m]\u001b[0m\u001b[0;34m:\u001b[0m\u001b[0;34m\u001b[0m\u001b[0;34m\u001b[0m\u001b[0m\n",
      "\u001b[0;31mAttributeError\u001b[0m: 'HatebaseAPI' object has no attribute 'performRequest'"
     ]
    }
   ],
   "source": [
    "from json import loads\n",
    "from hatebase import HatebaseAPI\n",
    "import csv\n",
    "\n",
    "HATEBASE_PAGE_LEN = 100\n",
    "\n",
    "#Initialize HatebaseAPI class\n",
    "from hatebase import HatebaseAPI\n",
    "key = 'gszGTedCVisjpjvLynGmiJzbjcqVpvkc'\n",
    "hatebase = HatebaseAPI({\"key\": key})\n",
    "# for more details, set debug to True\n",
    "hatebase = HatebaseAPI({\"key\": key, \"debug\": True})\n",
    "\n",
    "#HatebaseAPI getVocabulary\n",
    "# set filters for vocabulary query\n",
    "filters = {\"language\": \"eng\"}\n",
    "format = \"json\"\n",
    "response = hatebase.getVocabulary(filters=filters, format=format)\n",
    "# get some details from response\n",
    "vocablist = response[\"result\"]\n",
    "results = response[\"number_of_results\"]\n",
    "pages = response[\"number_of_pages\"]\n",
    "\n",
    "\n",
    "#HatebaseAPI getVocabularyDetails\n",
    "format = \"json\"\n",
    "details_filters = {'vocabulary_id': vocab_id}\n",
    "response = hatebase.getVocabularyDetails(filters=details_filters, format=format)\n",
    "\n",
    "#HatebaseAPI getSightings\n",
    "filters = {'is_about_nationality': '1', 'language': 'eng', 'country_id': 'US'}\n",
    "format = \"json\"\n",
    "response = hatebase.getSightings(filters=filters, format=format)\n",
    "\n",
    "\n",
    "\n",
    "'''\n",
    "labels = ['about_ethnicity', 'about_nationality', 'about_religion', 'about_gender', \\\n",
    "            'about_sexual_orientation', 'about_disability', 'about_class']\n",
    "\n",
    "output = \"json\"\n",
    "query_type = \"vocabulary\"\n",
    "page_num = 1\n",
    "\n",
    "all_words = {}\n",
    "while True:\n",
    "    filters = {'language': 'eng', 'page': str(page_num)}\n",
    "    response = hatebase.performRequest(filters, output, query_type)\n",
    "    response = loads(response) # response -> datapoint: [obj, obj ...]\n",
    "    for result in response['data']['datapoint']:\n",
    "        word = result['vocabulary']\n",
    "        if word not in all_words:\n",
    "            all_words[word] = result\n",
    "\n",
    "    if int(response['number_of_results_on_this_page']) < 100:\n",
    "        break\n",
    "    page_num += 1\n",
    "\n",
    "with open('data/hatebase.csv', 'wb') as output_file:\n",
    "    csvwriter = csv.writer(output_file)\n",
    "    header = ['vocabulary', 'about_class', 'about_religion', 'about_gender', \\\n",
    "                'about_ethnicity', 'about_nationality', 'about_sexual_orientation', \\\n",
    "                'about_disability', 'offensiveness', 'number_of_sightings']\n",
    "    csvwriter.writerow(header)\n",
    "\n",
    "    for word in all_words.values():\n",
    "        csvwriter.writerow([word[c].lower() for c in header])\n",
    "'''"
   ]
  },
  {
   "cell_type": "code",
   "execution_count": null,
   "metadata": {},
   "outputs": [],
   "source": [
    "# get unigram counts for data\n",
    "def get_unigrams_processed():\n",
    "    uni = set()\n",
    "    tweets = df[['tweet']]\n",
    "    for row_index, row in tweets.iterrows():\n",
    "        s = tknzr.tokenize(row['tweet'])\n",
    "        for word in s:\n",
    "            uni.add(word)    \n",
    "    return uni\n",
    "vocabulary_unigrams = get_unigrams_processed()\n",
    "\n",
    "\n",
    "\n",
    "\n"
   ]
  }
 ],
 "metadata": {
  "kernelspec": {
   "display_name": "Python 3",
   "language": "python",
   "name": "python3"
  },
  "language_info": {
   "codemirror_mode": {
    "name": "ipython",
    "version": 3
   },
   "file_extension": ".py",
   "mimetype": "text/x-python",
   "name": "python",
   "nbconvert_exporter": "python",
   "pygments_lexer": "ipython3",
   "version": "3.7.2"
  }
 },
 "nbformat": 4,
 "nbformat_minor": 2
}

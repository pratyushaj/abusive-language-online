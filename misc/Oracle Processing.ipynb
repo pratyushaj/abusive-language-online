{
 "cells": [
  {
   "cell_type": "code",
   "execution_count": 66,
   "metadata": {},
   "outputs": [],
   "source": [
    "import pandas as pd\n",
    "from collections import Counter"
   ]
  },
  {
   "cell_type": "code",
   "execution_count": 2,
   "metadata": {},
   "outputs": [],
   "source": [
    "susana = pd.read_csv('../data/oracles/oracle_labels_Susana.csv',encoding='utf-8')"
   ]
  },
  {
   "cell_type": "code",
   "execution_count": 34,
   "metadata": {},
   "outputs": [],
   "source": [
    "def f(row):\n",
    "    items = [float(row['Neither']), float(row['Offsensive']),float(row['Hate Speech '])]\n",
    "    return items.index(1.0)\n"
   ]
  },
  {
   "cell_type": "code",
   "execution_count": 36,
   "metadata": {},
   "outputs": [],
   "source": [
    "susana['Susana'] = susana.apply(f,axis=1)"
   ]
  },
  {
   "cell_type": "code",
   "execution_count": 8,
   "metadata": {},
   "outputs": [],
   "source": [
    "pratyusha = pd.read_csv('../data/oracles/oracle_labels_Pratyusha.csv',encoding='utf-8')"
   ]
  },
  {
   "cell_type": "code",
   "execution_count": 4,
   "metadata": {},
   "outputs": [],
   "source": [
    "derek = pd.read_csv('../data/oracles/oracle_labels_Derek.csv',encoding='utf-8')"
   ]
  },
  {
   "cell_type": "code",
   "execution_count": 5,
   "metadata": {},
   "outputs": [],
   "source": [
    "andy = pd.read_csv('../data/oracles/oracle_labels_Andy.csv',encoding='utf-8')"
   ]
  },
  {
   "cell_type": "code",
   "execution_count": 39,
   "metadata": {},
   "outputs": [],
   "source": [
    "everyone = susana[['Unnamed: 0','tweet','Susana']]"
   ]
  },
  {
   "cell_type": "code",
   "execution_count": null,
   "metadata": {},
   "outputs": [],
   "source": [
    "inter_1 = pd.merge(everyone,pratyusha[['Unnamed: 0','Pratyusha']],how='left',on='Unnamed: 0')\n",
    "inter_2 = pd.merge(inter_1,derek[['Unnamed: 0','Derek']], how = 'left', on='Unnamed: 0')\n",
    "andy_inter = andy[['Unnamed: 1','Andy']]\n",
    "andy_inter['Unnamed: 0'] = andy_inter['Unnamed: 1']\n",
    "inter_3 = pd.merge(inter_2,andy_inter, how = 'left', on='Unnamed: 0')\n",
    "all_labels = inter_3[['Unnamed: 0','tweet','Susana','Pratyusha','Derek','Andy']]"
   ]
  },
  {
   "cell_type": "code",
   "execution_count": 64,
   "metadata": {},
   "outputs": [],
   "source": [
    "all_labels.to_csv('../data/oracles/oracle_labels_everyone.csv',encoding='utf-8')"
   ]
  },
  {
   "cell_type": "code",
   "execution_count": 83,
   "metadata": {},
   "outputs": [],
   "source": [
    "nums = list(range(1,101))\n",
    "\n",
    "def g(row):\n",
    "    opinions = [row['Derek'],row['Pratyusha'],row['Susana'],row['Andy']]\n",
    "    c = Counter(opinions)\n",
    "    \n",
    "    if len(c.keys()) == 2 and 2 in c.values():\n",
    "        print(nums.pop(0),c)"
   ]
  },
  {
   "cell_type": "code",
   "execution_count": 84,
   "metadata": {},
   "outputs": [
    {
     "name": "stdout",
     "output_type": "stream",
     "text": [
      "1 Counter({2: 2, 0: 2})\n",
      "2 Counter({1: 2, 0: 2})\n",
      "3 Counter({0: 2, 1: 2})\n",
      "4 Counter({0: 2, 1: 2})\n",
      "5 Counter({2: 2, 0: 2})\n",
      "6 Counter({1: 2, 0: 2})\n",
      "7 Counter({1: 2, 0: 2})\n",
      "8 Counter({2: 2, 0: 2})\n",
      "9 Counter({2: 2, 0: 2})\n",
      "10 Counter({2: 2, 0: 2})\n",
      "11 Counter({2: 2, 0: 2})\n",
      "12 Counter({2: 2, 0: 2})\n",
      "13 Counter({2: 2, 1: 2})\n",
      "14 Counter({2: 2, 0: 2})\n",
      "15 Counter({2: 2, 0: 2})\n",
      "16 Counter({0: 2, 1: 2})\n",
      "17 Counter({2: 2, 0: 2})\n",
      "18 Counter({2: 2, 0: 2})\n",
      "19 Counter({2: 2, 0: 2})\n",
      "20 Counter({0: 2, 1: 2})\n",
      "21 Counter({2: 2, 0: 2})\n",
      "22 Counter({2: 2, 0: 2})\n",
      "23 Counter({2: 2, 0: 2})\n",
      "24 Counter({2: 2, 0: 2})\n"
     ]
    },
    {
     "data": {
      "text/plain": [
       "0     None\n",
       "1     None\n",
       "2     None\n",
       "3     None\n",
       "4     None\n",
       "5     None\n",
       "6     None\n",
       "7     None\n",
       "8     None\n",
       "9     None\n",
       "10    None\n",
       "11    None\n",
       "12    None\n",
       "13    None\n",
       "14    None\n",
       "15    None\n",
       "16    None\n",
       "17    None\n",
       "18    None\n",
       "19    None\n",
       "20    None\n",
       "21    None\n",
       "22    None\n",
       "23    None\n",
       "24    None\n",
       "25    None\n",
       "26    None\n",
       "27    None\n",
       "28    None\n",
       "29    None\n",
       "      ... \n",
       "70    None\n",
       "71    None\n",
       "72    None\n",
       "73    None\n",
       "74    None\n",
       "75    None\n",
       "76    None\n",
       "77    None\n",
       "78    None\n",
       "79    None\n",
       "80    None\n",
       "81    None\n",
       "82    None\n",
       "83    None\n",
       "84    None\n",
       "85    None\n",
       "86    None\n",
       "87    None\n",
       "88    None\n",
       "89    None\n",
       "90    None\n",
       "91    None\n",
       "92    None\n",
       "93    None\n",
       "94    None\n",
       "95    None\n",
       "96    None\n",
       "97    None\n",
       "98    None\n",
       "99    None\n",
       "Length: 100, dtype: object"
      ]
     },
     "execution_count": 84,
     "metadata": {},
     "output_type": "execute_result"
    }
   ],
   "source": [
    "all_labels.apply(g,axis=1)"
   ]
  },
  {
   "cell_type": "code",
   "execution_count": 65,
   "metadata": {},
   "outputs": [],
   "source": [
    "gold = pd.read_csv('../data/oracles/oracle_with_labels.csv',encoding='utf-8')"
   ]
  },
  {
   "cell_type": "code",
   "execution_count": null,
   "metadata": {},
   "outputs": [],
   "source": []
  }
 ],
 "metadata": {
  "kernelspec": {
   "display_name": "Python 3",
   "language": "python",
   "name": "python3"
  },
  "language_info": {
   "codemirror_mode": {
    "name": "ipython",
    "version": 3
   },
   "file_extension": ".py",
   "mimetype": "text/x-python",
   "name": "python",
   "nbconvert_exporter": "python",
   "pygments_lexer": "ipython3",
   "version": "3.6.8"
  }
 },
 "nbformat": 4,
 "nbformat_minor": 2
}
